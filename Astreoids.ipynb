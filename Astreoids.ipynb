{
  "nbformat": 4,
  "nbformat_minor": 0,
  "metadata": {
    "colab": {
      "provenance": []
    },
    "kernelspec": {
      "name": "python3",
      "display_name": "Python 3"
    },
    "language_info": {
      "name": "python"
    }
  },
  "cells": [
    {
      "cell_type": "code",
      "execution_count": null,
      "metadata": {
        "colab": {
          "base_uri": "https://localhost:8080/"
        },
        "id": "_SUsR5bOSkgI",
        "outputId": "cf42a5bf-5263-4a40-edf4-987be58152a4"
      },
      "outputs": [
        {
          "output_type": "stream",
          "name": "stdout",
          "text": [
            "Drive already mounted at /content/drive; to attempt to forcibly remount, call drive.mount(\"/content/drive\", force_remount=True).\n"
          ]
        },
        {
          "output_type": "stream",
          "name": "stderr",
          "text": [
            "<ipython-input-1-3f00bcadf4dd>:14: DtypeWarning: Columns (7,8,9,10,11,12,14) have mixed types. Specify dtype option on import or set low_memory=False.\n",
            "  df = pd.read_csv(file_path)\n"
          ]
        },
        {
          "output_type": "stream",
          "name": "stdout",
          "text": [
            "Eksik Değerler:\n",
            "NEO_flag            1023535\n",
            "One_km_NEO_flag     1046714\n",
            "PHA_flag            1045958\n",
            "H                      1270\n",
            "G                      1270\n",
            "Num_obs                   7\n",
            "rms                      59\n",
            "U                     41680\n",
            "Arc_years             95592\n",
            "Perturbers            45479\n",
            "Perturbers_2          45479\n",
            "Number               501275\n",
            "Name                1025968\n",
            "Principal_desig           0\n",
            "Other_desigs         973155\n",
            "Epoch                     0\n",
            "M                         0\n",
            "Peri                      0\n",
            "Node                      0\n",
            "i                         0\n",
            "e                         0\n",
            "n                         0\n",
            "a                         0\n",
            "Ref                       0\n",
            "Num_opps                  0\n",
            "Computer                  0\n",
            "Hex_flags                 0\n",
            "Last_obs                  0\n",
            "Tp                        0\n",
            "Orbital_period            0\n",
            "Perihelion_dist           0\n",
            "Aphelion_dist             0\n",
            "Semilatus_rectum          0\n",
            "Synodic_period            0\n",
            "Orbit_type                0\n",
            "dtype: int64\n"
          ]
        }
      ],
      "source": [
        "# Google Drive'ı Colab'a bağlamak için bu adımı kullanın\n",
        "from google.colab import drive\n",
        "drive.mount('/content/drive')\n",
        "\n",
        "# Gerekli kütüphaneleri yükleyin\n",
        "import pandas as pd\n",
        "import seaborn as sns\n",
        "import matplotlib.pyplot as plt\n",
        "from sklearn.metrics.pairwise import cosine_similarity\n",
        "from sklearn.preprocessing import StandardScaler\n",
        "\n",
        "# Veri setini okuyun\n",
        "file_path = '/content/drive/MyDrive/celestial/orbit.csv'\n",
        "df = pd.read_csv(file_path)\n",
        "\n",
        "# Eksik değerleri kontrol et\n",
        "print(\"Eksik Değerler:\")\n",
        "print(df.isna().sum())\n",
        "\n",
        "# Eksik değerleri sıfır ile doldur (veya istediğiniz başka bir değer)\n",
        "df.fillna(0, inplace=True)\n",
        "\n",
        "# Gerekirse veri setini ön işleme yapın\n",
        "# Örneğin, sayısal özelliklerin standartlaştırılması\n",
        "numeric_cols = df.select_dtypes(include='number').columns\n",
        "df[numeric_cols] = StandardScaler().fit_transform(df[numeric_cols])\n",
        "\n",
        "# Yörüngeler arasındaki benzerliği ölçmek için bir özellik seçin (örneğin, tüm sayısal özellikler)\n",
        "features_for_similarity = df.select_dtypes(include='number')\n",
        "\n",
        "# Benzerlik matrisini oluşturun\n",
        "similarity_matrix = cosine_similarity(features_for_similarity)\n",
        "\n",
        "# Benzerlik matrisini bir DataFrame'e dönüştürün (isteğe bağlı)\n",
        "similarity_df = pd.DataFrame(similarity_matrix, index=df.index, columns=df.index)\n",
        "\n",
        "# Benzerlik matrisini görselleştirin\n",
        "plt.figure(figsize=(10, 8))\n",
        "sns.heatmap(similarity_df, cmap=\"YlGnBu\", annot=False)\n",
        "plt.title(\"Asteroid Yörünge Benzerlikleri\")\n",
        "plt.show()\n"
      ]
    }
  ]
}